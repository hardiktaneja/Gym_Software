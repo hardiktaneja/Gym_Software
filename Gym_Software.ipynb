{
 "cells": [
  {
   "cell_type": "markdown",
   "metadata": {},
   "source": [
    "Code to import mysql connector"
   ]
  },
  {
   "cell_type": "code",
   "execution_count": 1,
   "metadata": {
    "collapsed": true
   },
   "outputs": [],
   "source": [
    "import mysql.connector"
   ]
  },
  {
   "cell_type": "markdown",
   "metadata": {},
   "source": [
    "Code to connect to local database\n",
    "This database already has a table created with five collumns\n",
    "name,start_date,date_end,level and id(_In this order_)"
   ]
  },
  {
   "cell_type": "code",
   "execution_count": 2,
   "metadata": {
    "collapsed": true
   },
   "outputs": [],
   "source": [
    "def getcon():\n",
    "    \n",
    "    mydb = mysql.connector.connect(\n",
    "    host=\"localhost\",\n",
    "    user=\"root\",\n",
    "    passwd=\"MyNewPass\"\n",
    "    ,database=\"gym_db\"\n",
    "    )\n",
    "    print(mydb)\n",
    "    mycursor = mydb.cursor(buffered=True)\n",
    "    return [mydb,mycursor]"
   ]
  },
  {
   "cell_type": "markdown",
   "metadata": {},
   "source": [
    "Function to increase the months of a date"
   ]
  },
  {
   "cell_type": "code",
   "execution_count": 3,
   "metadata": {
    "collapsed": true
   },
   "outputs": [],
   "source": [
    "def date_inc(date,num):\n",
    "    if((int(date.split(\"/\")[1])+1)+num<=12):\n",
    "        return (date.split(\"/\")[0])+\"/\"+str(int(date.split(\"/\")[1])+num)+\"/\"+date.split(\"/\")[2]\n",
    "    else:\n",
    "        return (date.split(\"/\")[0])+\"/\"+str(int(date.split(\"/\")[1])+num-12)+\"/\"+str(int(date.split(\"/\")[2])+1)"
   ]
  },
  {
   "cell_type": "markdown",
   "metadata": {},
   "source": [
    "First class of a member of the Gym with same five parameters"
   ]
  },
  {
   "cell_type": "code",
   "execution_count": 4,
   "metadata": {
    "collapsed": true
   },
   "outputs": [],
   "source": [
    "# members=[]\n",
    "# a=0\n",
    "class Gym_ver4_1:\n",
    "#     idnos = \"FIT00\"+str(a)\n",
    "    def __init__(self,name,start_date,level):\n",
    "        self.name=name\n",
    "        self.start_date=start_date\n",
    "        self.level = level\n",
    "        self.date_end=None\n",
    "#         self.make_member(self.name,self.start_date,self.level)"
   ]
  },
  {
   "cell_type": "markdown",
   "metadata": {},
   "source": [
    "Second class with functions to create a member , update(extend) a member ,show an existing member and delete a member"
   ]
  },
  {
   "cell_type": "code",
   "execution_count": 5,
   "metadata": {
    "collapsed": true
   },
   "outputs": [],
   "source": [
    "class Gym_ver4_2:\n",
    "    def make_member(a):\n",
    "#         temp_mem={}\n",
    "#         temp_mem['name']=name\n",
    "#         temp_mem['date']=date\n",
    "#         temp_mem['level']=level\n",
    "#         self.idnum=\"FIT00\"+str(a+1)\n",
    "        date = a.start_date\n",
    "        if(a.level==\"Silver\"):\n",
    "            a.date_end=date_inc(date,1)\n",
    "        elif(a.level==\"Gold\"):\n",
    "            a.date_end=date_inc(date,3)\n",
    "        else:\n",
    "            a.date_end=date_inc(date,6)\n",
    "#         members.append(self)\n",
    "        sql = \"INSERT INTO customers (name, date,date_end,level) VALUES (%s, %s, %s, %s)\"\n",
    "        val = (a.name, a.start_date,a.date_end,a.level)\n",
    "        mycursor.execute(sql, val)\n",
    "        mycursor.execute(\"SELECT * FROM customers\")\n",
    "        myresult = mycursor.fetchall()\n",
    "        id = myresult[len(myresult)-1][4]\n",
    "        mydb.commit()\n",
    "        print(mycursor.rowcount, \"record inserted.\")\n",
    "        \n",
    "        print(\"Hello\",a.name,\"\\nWelcome to Planet Fitness\",\"\\nYour ID Number is :\",id,\"\\nYour membership will end on :\",a.date_end)\n",
    "    def check_member(idnum):\n",
    "        sql=\"SELECT * FROM CUSTOMERS WHERE id= %s\"\n",
    "        val=(idnum,)\n",
    "        mycursor.execute(sql,val)\n",
    "        member = mycursor.fetchall()\n",
    "        print(\"Hello\",member[0][0],\"\\nWelcome to Planet Fitness\",\"\\nYour ID Number is :\",idnum,\"\\nYour membership will end on :\",member[0][2])\n",
    "    def extend_member(idnum,level):\n",
    "        val =(idnum,)\n",
    "        mycursor.execute(\"SELECT * FROM CUSTOMERS WHERE id =%s\",val)\n",
    "        member_date = mycursor.fetchall()[0][2]\n",
    "        if(level==\"Silver\"):\n",
    "            sql = \"UPDATE customers SET ID = %s WHERE ID = %s\"\n",
    "            val = (date_inc(member_date,1), idnum)\n",
    "            mycursor.execute(sql, val)\n",
    "            mydb.commit()\n",
    "            print(mycursor.rowcount, \"record(s) affected\")\n",
    "        elif(level==\"Gold\"):\n",
    "            sql = \"UPDATE customers SET ID = %s WHERE ID = %s\"\n",
    "            val = (date_inc(member_date,3), idnum)\n",
    "            mycursor.execute(sql, val)\n",
    "            mydb.commit()\n",
    "            print(mycursor.rowcount, \"record(s) affected\")\n",
    "        elif(level==\"Platinum\"):\n",
    "            sql = \"UPDATE customers SET date_end = %s WHERE ID = %s\"\n",
    "            val = (date_inc(member_date,6), idnum)\n",
    "            mycursor.execute(sql, val)\n",
    "            mydb.commit()\n",
    "            print(mycursor.rowcount, \"record(s) affected\")\n",
    "    def delete_member(idnum):\n",
    "        sql = \"DELETE FROM customers WHERE id = %s\"\n",
    "        val = (idnum,)\n",
    "        mycursor.execute(sql,val)\n",
    "        mydb.commit()\n",
    "        print(mycursor.rowcount, \"record(s) deleted\")"
   ]
  },
  {
   "cell_type": "markdown",
   "metadata": {},
   "source": [
    "Main function which is a User Driven menu program"
   ]
  },
  {
   "cell_type": "code",
   "execution_count": 6,
   "metadata": {},
   "outputs": [
    {
     "name": "stdout",
     "output_type": "stream",
     "text": [
      "<mysql.connector.connection.MySQLConnection object at 0x10fc0fd30>\n"
     ]
    }
   ],
   "source": [
    "a=getcon()"
   ]
  },
  {
   "cell_type": "code",
   "execution_count": 9,
   "metadata": {},
   "outputs": [],
   "source": [
    "mydb=a[0]\n",
    "mycursor=a[1]"
   ]
  },
  {
   "cell_type": "code",
   "execution_count": 11,
   "metadata": {},
   "outputs": [
    {
     "name": "stdout",
     "output_type": "stream",
     "text": [
      "\n",
      "Code '1'. Add a New Member \n",
      "Code '2':Extend Membership of an existing Member \n",
      "Code '3':Check Membership of Existing Member \n",
      "Code 4: Delete an member \n",
      "Code 5: Exit\n",
      "Enter Your Choice3\n",
      "Enter ID Number16\n",
      "Hello Hardik \n",
      "Welcome to Planet Fitness \n",
      "Your ID Number is : 16 \n",
      "Your membership will end on : 10/7/19\n",
      "\n",
      "Code '1'. Add a New Member \n",
      "Code '2':Extend Membership of an existing Member \n",
      "Code '3':Check Membership of Existing Member \n",
      "Code 4: Delete an member \n",
      "Code 5: Exit\n",
      "Enter Your Choice1\n",
      "Enter the Namesomeone\n",
      "Enter date in dd/mm/yy :1/2/12\n",
      "Enter LevelSilver\n",
      "25 record inserted.\n",
      "Hello someone \n",
      "Welcome to Planet Fitness \n",
      "Your ID Number is : 26 \n",
      "Your membership will end on : 1/3/12\n",
      "\n",
      "Code '1'. Add a New Member \n",
      "Code '2':Extend Membership of an existing Member \n",
      "Code '3':Check Membership of Existing Member \n",
      "Code 4: Delete an member \n",
      "Code 5: Exit\n",
      "Enter Your Choice5\n"
     ]
    }
   ],
   "source": [
    "#ADMIN\n",
    "exit=False\n",
    "while(exit != True):\n",
    "    print(\"\\nCode '1'. Add a New Member\",\"\\nCode '2':Extend Membership of an existing Member\",\n",
    "         \"\\nCode '3':Check Membership of Existing Member\",\"\\nCode 4: Delete an member\",\"\\nCode 5: Exit\")\n",
    "    choice=input(\"Enter Your Choice\")\n",
    "    if(choice == \"1\"):\n",
    "        name1 = input(\"Enter the Name\")\n",
    "        date1 = input(\"Enter date in dd/mm/yy :\")\n",
    "        level1 = input(\"Enter Level\")\n",
    "        obj=Gym_ver4_1(name1,date1,level1)\n",
    "        Gym_ver4_2.make_member(obj)\n",
    "    elif(choice == \"2\"):\n",
    "        idn=input(\"Enter ID Number\")\n",
    "        level=input(\"Enter Level\")\n",
    "        Gym_ver4_2.extend_member(idn,level)\n",
    "    elif(choice == \"3\"):\n",
    "        idn=input(\"Enter ID Number\")\n",
    "        Gym_ver4_2.check_member(idn)\n",
    "    elif(choice==\"4\"):\n",
    "        idn=input(\"Enter ID Number\")\n",
    "        Gym_ver4_2.delete_member(idn)\n",
    "    elif(choice == \"5\"):\n",
    "        exit = True"
   ]
  }
 ],
 "metadata": {
  "kernelspec": {
   "display_name": "Python 3",
   "language": "python",
   "name": "python3"
  },
  "language_info": {
   "codemirror_mode": {
    "name": "ipython",
    "version": 3
   },
   "file_extension": ".py",
   "mimetype": "text/x-python",
   "name": "python",
   "nbconvert_exporter": "python",
   "pygments_lexer": "ipython3",
   "version": "3.6.3"
  }
 },
 "nbformat": 4,
 "nbformat_minor": 2
}
